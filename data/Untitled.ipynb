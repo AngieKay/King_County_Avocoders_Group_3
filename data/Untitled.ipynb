{
 "cells": [
  {
   "cell_type": "code",
   "execution_count": 3,
   "metadata": {},
   "outputs": [
    {
     "name": "stdout",
     "output_type": "stream",
     "text": [
      "# Column Names and descriptions for Kings County Data Set\n",
      "* **id** - unique identified for a house\n",
      "* **dateDate** - house was sold\n",
      "* **pricePrice** -  is prediction target\n",
      "* **bedroomsNumber** -  of Bedrooms/House\n",
      "* **bathroomsNumber** -  of bathrooms/bedrooms\n",
      "* **sqft_livingsquare** -  footage of the home\n",
      "* **sqft_lotsquare** -  footage of the lot\n",
      "* **floorsTotal** -  floors (levels) in house\n",
      "* **waterfront** - House which has a view to a waterfront\n",
      "* **view** - Has been viewed\n",
      "* **condition** - How good the condition is ( Overall )\n",
      "* **grade** - overall grade given to the housing unit, based on King County grading system\n",
      "* **sqft_above** - square footage of house apart from basement\n",
      "* **sqft_basement** - square footage of the basement\n",
      "* **yr_built** - Built Year\n",
      "* **yr_renovated** - Year when house was renovated\n",
      "* **zipcode** - zip\n",
      "* **lat** - Latitude coordinate\n",
      "* **long** - Longitude coordinate\n",
      "* **sqft_living15** - The square footage of interior housing living space for the nearest 15 neighbors\n",
      "* **sqft_lot15** - The square footage of the land lots of the nearest 15 neighbors\n",
      "\n"
     ]
    }
   ],
   "source": [
    "with open('column_names.md') as f:\n",
    "    text = f.read()\n",
    "print(text)"
   ]
  },
  {
   "cell_type": "code",
   "execution_count": null,
   "metadata": {},
   "outputs": [],
   "source": []
  }
 ],
 "metadata": {
  "kernelspec": {
   "display_name": "Python 3",
   "language": "python",
   "name": "python3"
  },
  "language_info": {
   "codemirror_mode": {
    "name": "ipython",
    "version": 3
   },
   "file_extension": ".py",
   "mimetype": "text/x-python",
   "name": "python",
   "nbconvert_exporter": "python",
   "pygments_lexer": "ipython3",
   "version": "3.8.5"
  }
 },
 "nbformat": 4,
 "nbformat_minor": 4
}
